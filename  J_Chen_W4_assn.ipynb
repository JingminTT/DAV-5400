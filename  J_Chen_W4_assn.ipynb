{
 "cells": [
  {
   "cell_type": "code",
   "execution_count": 47,
   "metadata": {},
   "outputs": [],
   "source": [
    "# import numpy package as np\n",
    "import numpy as np"
   ]
  },
  {
   "cell_type": "markdown",
   "metadata": {},
   "source": [
    "## First Task"
   ]
  },
  {
   "cell_type": "code",
   "execution_count": 49,
   "metadata": {},
   "outputs": [
    {
     "name": "stdout",
     "output_type": "stream",
     "text": [
      "[2 4]\n"
     ]
    }
   ],
   "source": [
    "# firstly, create two arrays 'a' and 'b'\n",
    "a = np.array([1, 2, 3, 2, 3, 4, 3, 4, 5, 6])\n",
    "b = np.array([7, 2, 10, 2, 7, 4, 9, 4, 9, 8])\n",
    "# use np.itersect1d function to find the distinct values between array a and b and give the value to first\n",
    "first = np.intersect1d(a, b)\n",
    "# print the result\n",
    "print(first)\n"
   ]
  },
  {
   "cell_type": "markdown",
   "metadata": {},
   "source": [
    "## Second Task"
   ]
  },
  {
   "cell_type": "code",
   "execution_count": 50,
   "metadata": {},
   "outputs": [
    {
     "name": "stdout",
     "output_type": "stream",
     "text": [
      "[[ 1  6 11]\n",
      " [ 2  7 12]\n",
      " [ 3  8 13]\n",
      " [ 4  9 14]\n",
      " [ 5 10 15]]\n"
     ]
    }
   ],
   "source": [
    "# Firstly, use np.arange to create an array in a sequencing range from 1 to 15\n",
    "# secondly, use reshape(3,5) to reshape the array to 3*5 sequence\n",
    "# finally, use .T to reshape the array to 5*3 sequence and give the values to a\n",
    "a = np.arange(1,16).reshape(3,5).T\n",
    "# pirint the result\n",
    "print(a)"
   ]
  },
  {
   "cell_type": "markdown",
   "metadata": {},
   "source": [
    "## Third Task"
   ]
  },
  {
   "cell_type": "code",
   "execution_count": 51,
   "metadata": {},
   "outputs": [
    {
     "name": "stdout",
     "output_type": "stream",
     "text": [
      "[ 7 15  1  8]\n"
     ]
    }
   ],
   "source": [
    "# firstly, create two arrays 'a' and 'b'\n",
    "a = np.array([12, 5, 7, 15, 3, 1, 8])\n",
    "b = np.array([14, 6, 3, 11, 19, 12, 5])\n",
    "# use np.itersect1d function to find the distinct values between array a and b and give the value to temp\n",
    "temp = np.intersect1d(a, b)\n",
    "# create a interation, if the element in array a is in temp, then skip that element, \n",
    "# only get the element which is not present in array b.\n",
    "# which means remove temp's value from array a\n",
    "for i in range(len(temp)):\n",
    "    a = a[a!=temp[i]]\n",
    "# print the result    \n",
    "print(a)"
   ]
  },
  {
   "cell_type": "markdown",
   "metadata": {},
   "source": [
    "## Fourth Task\n",
    "\n",
    "#### Firstly, use google to find the distance between nyc to key west, which is 1443 miles\n",
    "#### Secondly, use np.random.randint(30,1443,35), which means generate 35 random integer numbers, the range is 1 to 1443.\n",
    "#### Thirdly, use np.sort function, so the result will be cumulative miles of the recorded each day during the trip\n",
    "#### Next, we also need at least 4 non-consecutive days, so we can use a[n] = a[n+1], to make two days miles become the same and we need to do a[34] = 1443, which meas the last day will be complete 1443 miles.\n",
    "#### Next, we use np.diff(a) funciton to get the total miles that you rode each day, but the problem is, this function will lost the first value,  so I create a new array 'aa', and give the first day value to it, (aa = a[0]).\n",
    "#### finally, we combine these two arrays, to get the complete total miles that you rode each day."
   ]
  },
  {
   "cell_type": "code",
   "execution_count": 122,
   "metadata": {},
   "outputs": [
    {
     "name": "stdout",
     "output_type": "stream",
     "text": [
      "cumulative miles:  [  16   66   88  173  180  181  242  256  263  313  346  346  391  425\n",
      "  438  500  554  554  649  704  708  727  842  879  907  985 1041 1041\n",
      " 1168 1187 1204 1327 1327 1354 1443]\n",
      "each day: [ 16  50  22  85   7   1  61  14   7  50  33   0  45  34  13  62  54   0\n",
      "  95  55   4  19 115  37  28  78  56   0 127  19  17 123   0  27  89]\n"
     ]
    }
   ],
   "source": [
    "# create a new array to store values, \n",
    "# and use np.random.randint to generate 35 random integer numbers, the range is 1 to 1443\n",
    "a=np.random.randint(1,1443,35)\n",
    "#use np.sort function to sort array a\n",
    "a=np.sort(record)\n",
    "# we need at least 4 non-consecutive days, so we do a[10] = a[11]...to make two days miles become the same\n",
    "a[10]=a[11]\n",
    "a[16]=a[17]\n",
    "a[26]=a[27]\n",
    "a[31]=a[32]\n",
    "# after sorted this array, we need to make sure the last day of trip will complete 1443 miles\n",
    "# so we do record[34]=1443\n",
    "a[34]=1443\n",
    "# print cumulative miles you recorded each day during your trip\n",
    "print('cumulative miles: ',a)\n",
    "# create a new array 'new' and use np.diff(a) function to get the total miles that you rode each day(miss first value)\n",
    "new = np.diff(a)\n",
    "#create a new array 'aa' and give the first value of array a to 'aa', aa = a[0]\n",
    "aa = a[0]\n",
    "#use np.append combine these two array to get the complete total miles that you rode each day\n",
    "each_day = np.append(aa,new)\n",
    "#print the total miles that you rode each day\n",
    "print('each day:',each_day)"
   ]
  },
  {
   "cell_type": "markdown",
   "metadata": {},
   "source": [
    "## Fifth Task"
   ]
  },
  {
   "cell_type": "code",
   "execution_count": 123,
   "metadata": {},
   "outputs": [
    {
     "name": "stderr",
     "output_type": "stream",
     "text": [
      "//anaconda3/lib/python3.7/site-packages/ipykernel_launcher.py:8: FutureWarning: Method .as_matrix will be removed in a future version. Use .values instead.\n",
      "  \n"
     ]
    },
    {
     "data": {
      "text/plain": [
       "array([[   1979. , 7102100. ,    1512. ,     213. ],\n",
       "       [   1980. , 7071639. ,    1506. ,     213. ],\n",
       "       [   1981. , 7089241. ,    1309. ,     185. ],\n",
       "       [   1982. , 7109105. ,    1382. ,     194. ],\n",
       "       [   1983. , 7181224. ,    1424. ,     198. ],\n",
       "       [   1984. , 7234514. ,    1465. ,     203. ],\n",
       "       [   1985. , 7274054. ,    1326. ,     182. ],\n",
       "       [   1986. , 7319246. ,    1351. ,     185. ],\n",
       "       [   1987. , 7342476. ,    1447. ,     197. ],\n",
       "       [   1988. , 7353719. ,    1484. ,     202. ],\n",
       "       [   1989. , 7344175. ,    1402. ,     191. ],\n",
       "       [   1990. , 7335650. ,    1424. ,     194. ],\n",
       "       [   1991. , 7374501. ,    1469. ,     199. ],\n",
       "       [   1992. , 7428944. ,    1369. ,     184. ],\n",
       "       [   1993. , 7506166. ,    1368.5,     182. ],\n",
       "       [   1994. , 7570458. ,    1357.7,     179. ],\n",
       "       [   1995. , 7633040. ,    1325.7,     174. ],\n",
       "       [   1996. , 7697812. ,    1297.9,     169. ],\n",
       "       [   1997. , 7773443. ,    1205.5,     155. ],\n",
       "       [   1998. , 7858259. ,    1219.5,     155. ],\n",
       "       [   1999. , 7947660. ,    1237.2,     156. ],\n",
       "       [   2000. , 8008278. ,    1240.4,     155. ],\n",
       "       [   2001. , 8024963.5,    1184. ,     148. ],\n",
       "       [   2002. , 8041649. ,    1135.6,     141. ],\n",
       "       [   2003. , 8058334.5,    1093.7,     136. ],\n",
       "       [   2004. , 8075020. ,    1099.5,     136. ],\n",
       "       [   2005. , 8091705.5,    1138. ,     141. ],\n",
       "       [   2006. , 8108391. ,    1069. ,     132. ],\n",
       "       [   2007. , 8125076.5,    1114. ,     137. ],\n",
       "       [   2008. , 8141762. ,    1098. ,     135. ],\n",
       "       [   2009. , 8158447.5,    1007.5,     123. ],\n",
       "       [   2010. , 8175133. ,    1039. ,     127. ],\n",
       "       [   2011. , 8284098. ,    1021. ,     123. ],\n",
       "       [   2012. , 8361179. ,    1009.1,     121. ],\n",
       "       [   2013. , 8422460. ,    1006.1,     119. ],\n",
       "       [   2014. , 8471990. ,     996. ,     118. ],\n",
       "       [   2015. , 8516502. ,    1009. ,     118. ],\n",
       "       [   2016. , 8537673. ,    1002. ,     117. ],\n",
       "       [   2017. , 8622698. ,     990.2,     115. ]])"
      ]
     },
     "execution_count": 123,
     "metadata": {},
     "output_type": "execute_result"
    }
   ],
   "source": [
    "import pandas\n",
    "import numpy as np\n",
    "\n",
    "# supress scientific notation\n",
    "np.set_printoptions(suppress = True)\n",
    "\n",
    "# read the data file from GitHub and convert to a NumPy ndarray object\n",
    "nyc_water = pandas.read_csv('https://raw.githubusercontent.com/jtopor/DAV-5400/master/Week4/Water_Consumption_In_The_New_York_City.csv').as_matrix()\n",
    "\n",
    "# verify you have an ndarray object\n",
    "type(nyc_water)\n",
    "#print nyc_water\n",
    "nyc_water"
   ]
  },
  {
   "cell_type": "code",
   "execution_count": 124,
   "metadata": {},
   "outputs": [
    {
     "data": {
      "text/plain": [
       "1512.0"
      ]
     },
     "execution_count": 124,
     "metadata": {},
     "output_type": "execute_result"
    }
   ],
   "source": [
    "#1 What is the maximum yearly NYC consumption of water in millions of gallons per day?\n",
    "# use nyc_water[:,2] to slice this data set and get the consumption of water in millions of gallons per day yearly\n",
    "# use max() function to get the maximum values\n",
    "nyc_water[:,2].max()"
   ]
  },
  {
   "cell_type": "code",
   "execution_count": 35,
   "metadata": {},
   "outputs": [
    {
     "data": {
      "text/plain": [
       "39"
      ]
     },
     "execution_count": 35,
     "metadata": {},
     "output_type": "execute_result"
    }
   ],
   "source": [
    "#2 How many calendar years are represented within this data set? \n",
    "# use shape[0] function to get how many rows in this dataset.\n",
    "nyc_water.shape[0]"
   ]
  },
  {
   "cell_type": "code",
   "execution_count": 129,
   "metadata": {},
   "outputs": [
    {
     "name": "stdout",
     "output_type": "stream",
     "text": [
      "mean:  160.30769230769232\n",
      "standard deviation  31.51894330370624\n"
     ]
    }
   ],
   "source": [
    "#3 What is the mean and the standard deviation of the per capita daily water consumption?\n",
    "# use nyc_water[:,3] to slice this data set and get the per capita daily water consumption yearly\n",
    "# use mean() function to get the mean values\n",
    "print('mean: ',nyc_water[:,3].mean())\n",
    "# use np.std functin to get the standard deviation\n",
    "print('standard deviation ', np.std(nyc_water[:,3]))"
   ]
  },
  {
   "cell_type": "code",
   "execution_count": 132,
   "metadata": {},
   "outputs": [
    {
     "data": {
      "text/plain": [
       "array([-30461. ,  17602. ,  19864. ,  72119. ,  53290. ,  39540. ,\n",
       "        45192. ,  23230. ,  11243. ,  -9544. ,  -8525. ,  38851. ,\n",
       "        54443. ,  77222. ,  64292. ,  62582. ,  64772. ,  75631. ,\n",
       "        84816. ,  89401. ,  60618. ,  16685.5,  16685.5,  16685.5,\n",
       "        16685.5,  16685.5,  16685.5,  16685.5,  16685.5,  16685.5,\n",
       "        16685.5, 108965. ,  77081. ,  61281. ,  49530. ,  44512. ,\n",
       "        21171. ,  85025. ])"
      ]
     },
     "execution_count": 132,
     "metadata": {},
     "output_type": "execute_result"
    }
   ],
   "source": [
    "#4 What is the increase or decrease in population from year to year?\n",
    "# create a new array 'pop_diff' to store data\n",
    "# use nyc_water[:,1] to slice data set and get the population yearly and store in pop_diff\n",
    "pop_diff = nyc_water[:,1]\n",
    "# use np.diff() function to find the increase or decrease in population from year to year\n",
    "pop_diff = np.diff(pop_diff)\n",
    "# print the result\n",
    "pop_diff"
   ]
  }
 ],
 "metadata": {
  "kernelspec": {
   "display_name": "Python 3",
   "language": "python",
   "name": "python3"
  },
  "language_info": {
   "codemirror_mode": {
    "name": "ipython",
    "version": 3
   },
   "file_extension": ".py",
   "mimetype": "text/x-python",
   "name": "python",
   "nbconvert_exporter": "python",
   "pygments_lexer": "ipython3",
   "version": "3.7.3"
  }
 },
 "nbformat": 4,
 "nbformat_minor": 2
}
