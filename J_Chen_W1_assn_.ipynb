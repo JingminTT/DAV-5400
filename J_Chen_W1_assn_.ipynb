{
 "cells": [
  {
   "cell_type": "markdown",
   "metadata": {},
   "source": [
    "# https://github.com/TTZUO/DAV-5400\n",
    "\n",
    "# https://projects.fivethirtyeight.com/soccer-predictions/\n",
    "\n",
    "I am interested in soccer and during this course, I want to use python skill to visualize those data\n",
    "\n",
    "Which team has the best chance of winning the Chinese super league championship"
   ]
  },
  {
   "cell_type": "code",
   "execution_count": null,
   "metadata": {},
   "outputs": [],
   "source": []
  }
 ],
 "metadata": {
  "kernelspec": {
   "display_name": "Python 3",
   "language": "python",
   "name": "python3"
  },
  "language_info": {
   "codemirror_mode": {
    "name": "ipython",
    "version": 3
   },
   "file_extension": ".py",
   "mimetype": "text/x-python",
   "name": "python",
   "nbconvert_exporter": "python",
   "pygments_lexer": "ipython3",
   "version": "3.7.3"
  }
 },
 "nbformat": 4,
 "nbformat_minor": 2
}
