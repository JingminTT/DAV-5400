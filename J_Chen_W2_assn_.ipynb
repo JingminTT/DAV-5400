{
 "cells": [
  {
   "cell_type": "markdown",
   "metadata": {},
   "source": [
    "# Homewrok2"
   ]
  },
  {
   "cell_type": "code",
   "execution_count": 88,
   "metadata": {},
   "outputs": [
    {
     "name": "stdout",
     "output_type": "stream",
     "text": [
      "['high', 'high', '2', '4', 'med', 'low', 'unacc']\n",
      "['high', 'high', '4', 'more', 'small', 'high', 'acc']\n",
      "['high', 'high', '4', 'more', 'big', 'low', 'unacc']\n",
      "['high', 'low', '2', 'more', 'big', 'high', 'acc']\n",
      "['vhigh', 'low', '3', '2', 'med', 'med', 'unacc']\n",
      "['low', 'high', '2', '2', 'small', 'low', 'unacc']\n",
      "['med', 'med', '4', 'more', 'med', 'high', 'vgood']\n",
      "['low', 'low', '3', '2', 'big', 'med', 'unacc']\n",
      "['vhigh', 'low', '2', '2', 'small', 'low', 'unacc']\n",
      "['vhigh', 'high', '4', '4', 'med', 'low', 'unacc']\n",
      "['low', 'low', '2', '2', 'med', 'med', 'unacc']\n",
      "['vhigh', 'low', '4', 'more', 'small', 'high', 'acc']\n",
      "['high', 'low', '2', '4', 'big', 'med', 'acc']\n",
      "['low', 'vhigh', '3', 'more', 'big', 'low', 'unacc']\n",
      "['high', 'low', '5more', '2', 'big', 'med', 'unacc']\n",
      "['vhigh', 'high', '2', 'more', 'med', 'high', 'unacc']\n",
      "['med', 'med', '2', '2', 'small', 'low', 'unacc']\n",
      "['high', 'low', '5more', '4', 'med', 'high', 'acc']\n",
      "['low', 'low', '3', 'more', 'med', 'high', 'vgood']\n",
      "['low', 'low', '2', '2', 'big', 'med', 'unacc']\n",
      "['med', 'high', '4', '2', 'big', 'high', 'unacc']\n",
      "['low', 'low', '2', '2', 'small', 'high', 'unacc']\n",
      "['vhigh', 'high', '5more', '4', 'med', 'med', 'unacc']\n",
      "['med', 'vhigh', '2', '2', 'big', 'low', 'unacc']\n",
      "['low', 'vhigh', '4', '4', 'big', 'low', 'unacc']\n",
      "['vhigh', 'low', '3', 'more', 'big', 'low', 'unacc']\n",
      "['med', 'vhigh', '3', '4', 'small', 'low', 'unacc']\n",
      "['high', 'high', '3', '4', 'med', 'med', 'unacc']\n",
      "['low', 'high', '5more', '2', 'big', 'low', 'unacc']\n",
      "['med', 'high', '5more', '2', 'med', 'med', 'unacc']\n",
      "['high', 'low', '3', '4', 'med', 'high', 'acc']\n",
      "['high', 'vhigh', '5more', '4', 'med', 'med', 'unacc']\n",
      "['low', 'low', '5more', '2', 'med', 'low', 'unacc']\n",
      "['vhigh', 'vhigh', '4', '2', 'big', 'high', 'unacc']\n",
      "['high', 'low', '3', '2', 'big', 'high', 'unacc']\n"
     ]
    }
   ],
   "source": [
    "import csv\n",
    "# be sure to update the path below to reflect your own environment!! # also be sure that the code is properly indented after you paste it!\n",
    "with open('cars-sample35.txt') as csvfile: \n",
    "    readCSV = csv.reader(csvfile)\n",
    "    for row in readCSV:\n",
    "    # print each row as read by the csv.reader function\n",
    "        print(row)"
   ]
  },
  {
   "cell_type": "markdown",
   "metadata": {},
   "source": [
    "## First task is to read the file again and extract these seven attributes from each line of the file and create seven distinct lists comprised solely of the values you extracted for a given attribute."
   ]
  },
  {
   "cell_type": "code",
   "execution_count": 25,
   "metadata": {},
   "outputs": [
    {
     "name": "stdout",
     "output_type": "stream",
     "text": [
      "['med', 'small', 'big', 'big', 'med', 'small', 'med', 'big', 'small', 'med', 'med', 'small', 'big', 'big', 'big', 'med', 'small', 'med', 'med', 'big', 'big', 'small', 'med', 'big', 'big', 'big', 'small', 'med', 'big', 'med', 'med', 'med', 'med', 'big', 'big']\n"
     ]
    }
   ],
   "source": [
    "Price = []\n",
    "Maintenance_cost = []\n",
    "Number_of_doors = []\n",
    "Number_of_passengers = []\n",
    "Luggage_capacity = []\n",
    "Safety_rating = []\n",
    "Classification_of_vehicle = []\n",
    "with open('cars-sample35.txt') as csvfile: \n",
    "    readCSV = csv.reader(csvfile)\n",
    "    for i in readCSV:\n",
    "        # Insert values to each list according to index number\n",
    "        Price.append(i[0])\n",
    "        Maintenance_cost.append(i[1])\n",
    "        Number_of_doors.append(i[2])\n",
    "        Number_of_passengers.append(i[3])\n",
    "        Luggage_capacity.append(i[4])\n",
    "        Safety_rating.append(i[5])\n",
    "        Classification_of_vehicle.append(i[6])\n",
    "\n",
    "#test\n",
    "# print(Price)\n",
    "# print(Maintenance_cost)\n",
    "# print(Number_of_doors)\n",
    "# print(Number_of_passengers)\n",
    "print(Luggage_capacity)\n",
    "# print(Safety_rating)"
   ]
  },
  {
   "cell_type": "markdown",
   "metadata": {},
   "source": [
    "## Second task is to find the list index values of each automobile having a price rating of \"med\". Create a new list with your result"
   ]
  },
  {
   "cell_type": "code",
   "execution_count": 26,
   "metadata": {
    "scrolled": true
   },
   "outputs": [
    {
     "name": "stdout",
     "output_type": "stream",
     "text": [
      "list_index:  [6, 16, 20, 23, 26, 29]\n"
     ]
    }
   ],
   "source": [
    "list_index = []\n",
    "for x in range(len(Price)):\n",
    "    if(Price[x] == 'med'):\n",
    "        # If price value is med, insert index number to list_index[]\n",
    "        list_index.append(x)\n",
    "print('list_index: ',list_index)"
   ]
  },
  {
   "cell_type": "markdown",
   "metadata": {},
   "source": [
    "## third task is to find the \"number of passengers\" value for each auto having a \"price\" value of \"med\""
   ]
  },
  {
   "cell_type": "code",
   "execution_count": 29,
   "metadata": {},
   "outputs": [
    {
     "name": "stdout",
     "output_type": "stream",
     "text": [
      "number of passengers:  ['more', '2', '2', '2', '4', '2']\n"
     ]
    }
   ],
   "source": [
    "No_of_pa = []\n",
    "for x in range(len(Price)):\n",
    "    if(Price[x] == 'med'):\n",
    "        # If price value is med, insert number of passengers to list No_of_pa[]\n",
    "        No_of_pa.append(Number_of_passengers[x])\n",
    "print('number of passengers: ',No_of_pa)\n"
   ]
  },
  {
   "cell_type": "markdown",
   "metadata": {},
   "source": [
    "##  Fourth task is to find the index value for each automobile having a price value of \"high\" and a maintenance value that is not \"low\""
   ]
  },
  {
   "cell_type": "code",
   "execution_count": 44,
   "metadata": {},
   "outputs": [
    {
     "name": "stdout",
     "output_type": "stream",
     "text": [
      "answer:  [0, 1, 2, 27, 31]\n"
     ]
    }
   ],
   "source": [
    "temp = []\n",
    "for x in range(len(Price)):\n",
    "    # If price value is high and maintenance value not low, insert index number to list temp[]\n",
    "    if(Price[x] == 'high' and Maintenance_cost[x]!= 'low'):\n",
    "        temp.append(x)\n",
    "print('answer: ',temp)"
   ]
  },
  {
   "cell_type": "markdown",
   "metadata": {},
   "source": [
    "## Fifth task is to find the index value for each auto having 2 doors and a luggage value of \"big\". Create a new list to store your findings and be sure to print your results."
   ]
  },
  {
   "cell_type": "code",
   "execution_count": 89,
   "metadata": {},
   "outputs": [
    {
     "name": "stdout",
     "output_type": "stream",
     "text": [
      "answer:  [3, 12, 19, 23]\n"
     ]
    }
   ],
   "source": [
    "temp1 = []\n",
    "for x in range(len(Number_of_doors)):\n",
    "    if(Number_of_doors[x] == '2' and Luggage_capacity[x] == 'big'):\n",
    "#         if number of door is 2 and luggage value is big, insert index number to list temp1[]\n",
    "        temp1.append(x)\n",
    "print('answer: ',temp1)"
   ]
  },
  {
   "cell_type": "markdown",
   "metadata": {},
   "source": [
    "## Finally, create a new list containing the only the integer equivalents of the doors values. Keep in mind that the lists you have created thus far are composed solely of strings. If you find any values of '5more' in your list, convert them to a '5'. After converting the '5more' values to '5', convert all of the items in your list to their numeric equivalent and calculate the average number of doors across all 35 autos using whichever of Python's built in functions you require"
   ]
  },
  {
   "cell_type": "code",
   "execution_count": 93,
   "metadata": {},
   "outputs": [
    {
     "name": "stdout",
     "output_type": "stream",
     "text": [
      "final answer:  3.3142857142857145\n"
     ]
    }
   ],
   "source": [
    "import statistics\n",
    "\n",
    "final  = []\n",
    "for x in range(len(Number_of_doors)):\n",
    "    # firstly use Number_of_doors[x][0] to get the first character and then use int() to convert them to integer\n",
    "    final.append(int(Number_of_doors[x][0]))\n",
    "    \n",
    "# inmport statistics, use mean() to get the average    \n",
    "fa = statistics.mean(final)\n",
    "#print('list :',final)\n",
    "print('final answer: ',fa)\n"
   ]
  },
  {
   "cell_type": "code",
   "execution_count": null,
   "metadata": {},
   "outputs": [],
   "source": []
  }
 ],
 "metadata": {
  "kernelspec": {
   "display_name": "Python 3",
   "language": "python",
   "name": "python3"
  },
  "language_info": {
   "codemirror_mode": {
    "name": "ipython",
    "version": 3
   },
   "file_extension": ".py",
   "mimetype": "text/x-python",
   "name": "python",
   "nbconvert_exporter": "python",
   "pygments_lexer": "ipython3",
   "version": "3.7.3"
  }
 },
 "nbformat": 4,
 "nbformat_minor": 2
}
