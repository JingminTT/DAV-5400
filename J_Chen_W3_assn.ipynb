{
 "cells": [
  {
   "cell_type": "markdown",
   "metadata": {},
   "source": [
    "# Homework 3"
   ]
  },
  {
   "cell_type": "markdown",
   "metadata": {},
   "source": [
    "## Read csv file, Create 7 lists from ReadCSV files and then insert values to each list according to index number"
   ]
  },
  {
   "cell_type": "code",
   "execution_count": 84,
   "metadata": {},
   "outputs": [],
   "source": [
    "import csv\n",
    "# create seven empty lists.\n",
    "Price = []\n",
    "Maintenance_cost = []\n",
    "Number_of_doors = []\n",
    "Number_of_passengers = []\n",
    "Luggage_capacity = []\n",
    "Safety_rating = []\n",
    "Classification_of_vehicle = []\n",
    "with open('cars-sample35.txt') as csvfile: \n",
    "    readCSV = csv.reader(csvfile)\n",
    "    for i in readCSV:\n",
    "        # Insert values to each list according to index number\n",
    "        Price.append(i[0])\n",
    "        Maintenance_cost.append(i[1])\n",
    "        Number_of_doors.append(i[2])\n",
    "        Number_of_passengers.append(i[3])\n",
    "        Luggage_capacity.append(i[4])\n",
    "        Safety_rating.append(i[5])\n",
    "        Classification_of_vehicle.append(i[6])\n",
    "\n",
    "#test\n",
    "# print(Price)\n",
    "# print(Maintenance_cost)\n",
    "# print(Number_of_doors)\n",
    "# print(Number_of_passengers)\n",
    "# print(Luggage_capacity)\n",
    "# print(Safety_rating)"
   ]
  },
  {
   "cell_type": "markdown",
   "metadata": {},
   "source": [
    "## First tast\n",
    "### firstly create a empty list and then create a iteration, for each value of i, if Price[i] value is 'med', the value of i would be save in first and print the first value"
   ]
  },
  {
   "cell_type": "code",
   "execution_count": 85,
   "metadata": {},
   "outputs": [
    {
     "name": "stdout",
     "output_type": "stream",
     "text": [
      "[6, 16, 20, 23, 26, 29]\n"
     ]
    }
   ],
   "source": [
    "# create a empty list for store value\n",
    "first = []\n",
    "# using a list comprehension, in range len(Price), \n",
    "# if the value of Price[i] is 'med', store the value of i in list first.\n",
    "first = [i for i in range(len(Price)) if Price[i] == 'med']\n",
    "# print the list first\n",
    "print(first)"
   ]
  },
  {
   "cell_type": "markdown",
   "metadata": {},
   "source": [
    "## Second task \n",
    "### firstly create a empty list and then create a  iteration, for each value of i,  if Price[i] value is 'med', the value of Number_of_passengers[i] would be save in second and print the second value"
   ]
  },
  {
   "cell_type": "code",
   "execution_count": 86,
   "metadata": {},
   "outputs": [
    {
     "name": "stdout",
     "output_type": "stream",
     "text": [
      "['more', '2', '2', '2', '4', '2']\n"
     ]
    }
   ],
   "source": [
    "# create a empty list for store value\n",
    "second = []\n",
    "# using a list comprehension,in range len(Price),if the value of Price[i] is 'med', \n",
    "# store the value of Number_of_passengers[i] in list second.\n",
    "second = [Number_of_passengers[i] for i in range(len(Price)) if Price[i] == 'med']\n",
    "# print the list second\n",
    "print(second)"
   ]
  },
  {
   "cell_type": "markdown",
   "metadata": {},
   "source": [
    "## Third task \n",
    "### firstly create a empty list and then create a iteration, for each value of i, if Price[i] value is 'high', and the value of Maintenance_cost[i] not 'low', the value of i would be save in third and print the third value"
   ]
  },
  {
   "cell_type": "code",
   "execution_count": 87,
   "metadata": {},
   "outputs": [
    {
     "name": "stdout",
     "output_type": "stream",
     "text": [
      "[0, 1, 2, 27, 31]\n"
     ]
    }
   ],
   "source": [
    "# create a empty list for store value\n",
    "third = []\n",
    "# using a list comprehension, in range len(Price),\n",
    "# if the value of the Price[i] is 'high'and the value of Maintenance_cost[i] not'low'\n",
    "# store the value of i in list third\n",
    "third = [i for i in range(len(Price)) if (Price[i] == 'high' and Maintenance_cost[i]!= 'low')]\n",
    "# print the list third\n",
    "print(third)"
   ]
  },
  {
   "cell_type": "markdown",
   "metadata": {},
   "source": [
    "## Fourth task\n",
    "### Firstly, we create a empty list and then create a iteration, for each list inside the nlist, we create another iteration to get the value of that inside list, finally we get every element and get it to list new and print new."
   ]
  },
  {
   "cell_type": "code",
   "execution_count": 88,
   "metadata": {},
   "outputs": [
    {
     "name": "stdout",
     "output_type": "stream",
     "text": [
      "[1, 2, 3, 'A', 'B', 'C', 4, 5, 'D', 'E']\n"
     ]
    }
   ],
   "source": [
    "# we need to print each element in nlist\n",
    "nlist = [[1, 2, 3], ['A', 'B', 'C'], [4, 5], ['D', 'E']]\n",
    "# create a empty list for store value\n",
    "new = []\n",
    "# using list comprehension, for each list inside nlist, we use iteration to get the value,\n",
    "# and store the value in list new\n",
    "new = [y for x in nlist for y in x]\n",
    "# print the list new\n",
    "print(new)"
   ]
  },
  {
   "cell_type": "markdown",
   "metadata": {},
   "source": [
    "##  Fifth task\n",
    "### Firstly, create a function that accepts as input one of the seven automobile attribute lists as well as an integer value and returns a Python dict object, if the length of x larger than mylist, return index out of range, else, create a newdict, store the key and the value, the key should be 'A' + the index number, the value should be mylist[n], finally print the Price capacity in key A4 and the Luggage capacity in key A4"
   ]
  },
  {
   "cell_type": "code",
   "execution_count": 89,
   "metadata": {},
   "outputs": [
    {
     "name": "stdout",
     "output_type": "stream",
     "text": [
      "Price: vhigh\n",
      "Luggage: med\n"
     ]
    }
   ],
   "source": [
    "#create a function\n",
    "def makedict(mylist, x):\n",
    "    #if x greater than length of mylist, return index out of range.\n",
    "    if x > len(mylist):\n",
    "        return \"index out of range\"\n",
    "    #create a newdict\n",
    "    newdict = {}\n",
    "    #store key and value in newdict\n",
    "    newdict = {'A'+str(n):mylist[n] for n in range(x)}\n",
    "\n",
    "    return newdict\n",
    "#store first 7 value of Price in dict1\n",
    "dict1 = makedict(Price, 7)\n",
    "#store first 7 value of Luggage_capaacity in dict2\n",
    "dict2 = makedict(Luggage_capacity,7)\n",
    "#\n",
    "print('Price:',dict1['A4'])\n",
    "print('Luggage:',dict2['A4'])"
   ]
  },
  {
   "cell_type": "code",
   "execution_count": null,
   "metadata": {},
   "outputs": [],
   "source": []
  }
 ],
 "metadata": {
  "kernelspec": {
   "display_name": "Python 3",
   "language": "python",
   "name": "python3"
  },
  "language_info": {
   "codemirror_mode": {
    "name": "ipython",
    "version": 3
   },
   "file_extension": ".py",
   "mimetype": "text/x-python",
   "name": "python",
   "nbconvert_exporter": "python",
   "pygments_lexer": "ipython3",
   "version": "3.7.3"
  }
 },
 "nbformat": 4,
 "nbformat_minor": 2
}
