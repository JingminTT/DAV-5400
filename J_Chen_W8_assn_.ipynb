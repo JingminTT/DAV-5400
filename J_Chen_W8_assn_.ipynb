{
 "cells": [
  {
   "cell_type": "markdown",
   "metadata": {},
   "source": [
    "1.Use re.coompile create a regular expression to extract six name from example text and store this pattern to a.\n",
    "also use findall to find all the text which match the pattern and print the result."
   ]
  },
  {
   "cell_type": "code",
   "execution_count": 122,
   "metadata": {},
   "outputs": [
    {
     "data": {
      "text/plain": [
       "['Moe Szyslak',\n",
       " 'Burns, C. Montgomery',\n",
       " 'Rev. Timothy Lovejoy',\n",
       " 'Ned Flanders',\n",
       " 'Simpson, Homer',\n",
       " 'Dr. Julius Hibbert']"
      ]
     },
     "execution_count": 122,
     "metadata": {},
     "output_type": "execute_result"
    }
   ],
   "source": [
    "# load the re module\n",
    "import re\n",
    "# store example text to text variable\n",
    "text = \"555-1239Moe Szyslak(636) 555-0113Burns, C. Montgomery555 -6542\\\n",
    "Rev. Timothy Lovejoy555 8904Ned Flanders636-555-3226Simpson, Homer5553642Dr. Julius Hibbert\"\n",
    "# store regular expression pattern to a\n",
    "a = re.compile('[a-zA-Z\\s\\.\\,]+[a-zA-Z]+')\n",
    "# use findall function find all values which match the pattern\n",
    "vector = a.findall(text)\n",
    "# print result\n",
    "vector"
   ]
  },
  {
   "cell_type": "markdown",
   "metadata": {},
   "source": [
    "2a. Use a to store regular expression pattern and create a for loop, for each name, use function split(,) to\n",
    "split which name with \",\" and use[::-1] to rearrange"
   ]
  },
  {
   "cell_type": "code",
   "execution_count": 123,
   "metadata": {},
   "outputs": [
    {
     "name": "stdout",
     "output_type": "stream",
     "text": [
      "Moe Szyslak\n",
      "C. Montgomery Burns\n",
      "Rev. Timothy Lovejoy\n",
      "Ned Flanders\n",
      "Homer Simpson\n",
      "Dr. Julius Hibbert\n"
     ]
    }
   ],
   "source": [
    "# store regular expression in a\n",
    "a='[a-zA-Z\\s\\.\\,]+[a-zA-Z]+'\n",
    "# create a for loop, use re.findall(a,text) to show each name\n",
    "for i in re.findall(a,text):\n",
    "#use [::-1] to change the order of name.\n",
    "    print(' '.join(i.split(', ')[::-1]))"
   ]
  },
  {
   "cell_type": "markdown",
   "metadata": {},
   "source": [
    "2b. use b to store regular expression pattern, use pd.Series convert vector \n",
    "and use text1.str.match() to decide it's true or false"
   ]
  },
  {
   "cell_type": "code",
   "execution_count": 124,
   "metadata": {},
   "outputs": [
    {
     "data": {
      "text/plain": [
       "0    False\n",
       "1    False\n",
       "2     True\n",
       "3    False\n",
       "4    False\n",
       "5     True\n",
       "dtype: bool"
      ]
     },
     "execution_count": 124,
     "metadata": {},
     "output_type": "execute_result"
    }
   ],
   "source": [
    "# import pandas library\n",
    "import pandas as pd\n",
    "# use b to store pattern\n",
    "b = '[A-Za-z]{2,}\\.'\n",
    "# ues pd.series to conver vector \n",
    "text1 = pd.Series(vector)\n",
    "# find which name match the pattern\n",
    "text1.str.match(b)"
   ]
  },
  {
   "cell_type": "markdown",
   "metadata": {},
   "source": [
    "2c. Use c to store regular expression pattern, use pd.Series convert vector and use text2.str.match() to decide it's true or false"
   ]
  },
  {
   "cell_type": "code",
   "execution_count": 127,
   "metadata": {},
   "outputs": [
    {
     "data": {
      "text/plain": [
       "0    False\n",
       "1     True\n",
       "2    False\n",
       "3    False\n",
       "4    False\n",
       "5    False\n",
       "dtype: bool"
      ]
     },
     "execution_count": 127,
     "metadata": {},
     "output_type": "execute_result"
    }
   ],
   "source": [
    "# use c to store pattern\n",
    "c = \"[A-Za-z]+\\,\\s[A-Za-z]{1}\\.\\s[A-Za-z]+\"\n",
    "# find which name match the pattern\n",
    "text1.str.match(c)"
   ]
  },
  {
   "cell_type": "markdown",
   "metadata": {},
   "source": [
    "3.The regular expression \"<.+?>\" fail because '.+' can also represent '>', it can match all of the text,\n",
    "so I think the correct answer should be \"<.+?>\", ? matches the preceding pattern element zero or one time."
   ]
  },
  {
   "cell_type": "code",
   "execution_count": 56,
   "metadata": {},
   "outputs": [
    {
     "data": {
      "text/plain": [
       "'<title>+++BREAKING NEWS+++<title>'"
      ]
     },
     "execution_count": 56,
     "metadata": {},
     "output_type": "execute_result"
    }
   ],
   "source": [
    "# store example text to text1\n",
    "text1 = \"<title>+++BREAKING NEWS+++<title>\"\n",
    "# create a regular expression \"<.+>\" and store in c\n",
    "c = re.compile(\"<.+>\")\n",
    "# use match().group()find the result which match the regular expression c\n",
    "c.match(text1).group()"
   ]
  },
  {
   "cell_type": "code",
   "execution_count": 57,
   "metadata": {},
   "outputs": [
    {
     "data": {
      "text/plain": [
       "'<title>'"
      ]
     },
     "execution_count": 57,
     "metadata": {},
     "output_type": "execute_result"
    }
   ],
   "source": [
    "# create a regular expression \"<.+?>\" and store in c\n",
    "c = re.compile(\"<.+?>\")\n",
    "# use match().group()find the result which match the regular expression c\n",
    "c.match(text1).group()"
   ]
  },
  {
   "cell_type": "markdown",
   "metadata": {},
   "source": [
    "4.The regular expression \"[^0-9=+*()]+\" fail because ^ match any character that is not in the set, \n",
    "I think correct answer should be \"[\\\\^\\\\-0-9=+*()]+\", \"\\\\^\" match a ^ character and \"\\\\-\" match - character."
   ]
  },
  {
   "cell_type": "code",
   "execution_count": 64,
   "metadata": {},
   "outputs": [
    {
     "data": {
      "text/plain": [
       "'-'"
      ]
     },
     "execution_count": 64,
     "metadata": {},
     "output_type": "execute_result"
    }
   ],
   "source": [
    "# store example text in text2\n",
    "text2 = \"(5-3)^2=5^2-2*5*3+3^2\"\n",
    "# create a regular expression pattern and store in d\n",
    "d = re.compile(\"[^0-9=+*()]+\")\n",
    "# use search.group() to find the match value\n",
    "d.search(text2).group()"
   ]
  },
  {
   "cell_type": "code",
   "execution_count": 66,
   "metadata": {},
   "outputs": [
    {
     "data": {
      "text/plain": [
       "'(5-3)^2=5^2-2*5*3+3^2'"
      ]
     },
     "execution_count": 66,
     "metadata": {},
     "output_type": "execute_result"
    }
   ],
   "source": [
    "# create a regular expression pattern and store in d\n",
    "d = re.compile(\"[\\^\\-0-9=+*()]+\")\n",
    "# use search.group() to find the match value\n",
    "d.search(text2).group()"
   ]
  },
  {
   "cell_type": "code",
   "execution_count": null,
   "metadata": {},
   "outputs": [],
   "source": []
  }
 ],
 "metadata": {
  "kernelspec": {
   "display_name": "Python 3",
   "language": "python",
   "name": "python3"
  },
  "language_info": {
   "codemirror_mode": {
    "name": "ipython",
    "version": 3
   },
   "file_extension": ".py",
   "mimetype": "text/x-python",
   "name": "python",
   "nbconvert_exporter": "python",
   "pygments_lexer": "ipython3",
   "version": "3.7.3"
  }
 },
 "nbformat": 4,
 "nbformat_minor": 2
}
